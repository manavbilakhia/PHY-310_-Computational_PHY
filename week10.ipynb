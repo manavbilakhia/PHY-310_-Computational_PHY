{
 "cells": [
  {
   "cell_type": "markdown",
   "metadata": {},
   "source": [
    "# Week 10: Linear Algebra"
   ]
  },
  {
   "cell_type": "markdown",
   "metadata": {},
   "source": [
    "Name\n",
    "\n",
    "Date"
   ]
  },
  {
   "cell_type": "markdown",
   "metadata": {},
   "source": [
    "## Library Imports go here"
   ]
  },
  {
   "cell_type": "code",
   "execution_count": 2,
   "metadata": {
    "collapsed": true
   },
   "outputs": [],
   "source": [
    "code goes here"
   ]
  },
  {
   "cell_type": "markdown",
   "metadata": {},
   "source": [
    "## Basic Inversion Functions"
   ]
  },
  {
   "cell_type": "markdown",
   "metadata": {},
   "source": [
    "### QR Decomposition"
   ]
  },
  {
   "cell_type": "markdown",
   "metadata": {},
   "source": [
    "<font color = blue>\n",
    "Write a function that takes as input a square $N \\times N$ matrix $\\mathbb{M}$ and outputs a pair of matrices $[\\mathbb{Q}, \\mathbb{R}]$, where $\\mathbb{Q}$ is orthogonal, $\\mathbb{R}$ is upper triangular, and $\\mathbb{M} = \\mathbb{Q}\\mathbb{R}$.  Test your function on the matrix\n",
    "\n",
    ".\n",
    "\n",
    "$$\n",
    "\\mathbb{M} = \\left[\\begin{array}{cccc} 1 & 2 & 3 & 4 \\\\ 5 & 6 & 7 & 8 \\\\ 9 & 10 & 0 & 12 \\\\ 13 & 14 & 15 & 0 \\end{array}\\right]\n",
    "$$\n",
    "\n",
    ".\n",
    "\n",
    "Confirm that the function is working by checking all three features of your results: that $\\mathbb{Q}$ is orthogonal, that $\\mathbb{R}$ is upper triangular, and that $\\mathbb{M} = \\mathbb{Q}\\mathbb{R}$."
   ]
  },
  {
   "cell_type": "code",
   "execution_count": null,
   "metadata": {},
   "outputs": [],
   "source": [
    "code goes here"
   ]
  },
  {
   "cell_type": "markdown",
   "metadata": {},
   "source": [
    "discussion goes here"
   ]
  },
  {
   "cell_type": "markdown",
   "metadata": {},
   "source": [
    "### Failure Mode"
   ]
  },
  {
   "cell_type": "markdown",
   "metadata": {},
   "source": [
    "<font color = blue>\n",
    "Now test your function on the matrix\n",
    "\n",
    ".\n",
    "\n",
    "$$\n",
    "\\mathbb{M} = \\left[\\begin{array}{cccc} 1 & 2 & 3 & 4 \\\\ 5 & 6 & 7 & 8 \\\\ 9 & 10 & 11 & 12 \\\\ 13 & 14 & 15 & 16 \\end{array}\\right]\n",
    "$$\n",
    "\n",
    ".\n",
    "\n",
    "What goes wrong?  Explain why the matrix above is unsuitable for QR decomposition"
   ]
  },
  {
   "cell_type": "code",
   "execution_count": null,
   "metadata": {},
   "outputs": [],
   "source": [
    "code goes here"
   ]
  },
  {
   "cell_type": "markdown",
   "metadata": {},
   "source": [
    "discussion goes here"
   ]
  },
  {
   "cell_type": "markdown",
   "metadata": {},
   "source": [
    "### Inverting an Upper Triangular Matrix"
   ]
  },
  {
   "cell_type": "markdown",
   "metadata": {},
   "source": [
    "<font color = blue>\n",
    "Now write a function that solves the linear equation\n",
    "\n",
    "$$\n",
    "\\mathbb{R}\\vec{x} = \\vec{b}\n",
    "$$\n",
    "\n",
    "It should take as inputs an upper triangular matrix $\\mathbb{R}$ and a vector $\\vec{b}$, and output a vector $\\vec{x}$.  Test your function by using the upper triangular matrix generated in the first part of this assignment, and the vector\n",
    "\n",
    ".\n",
    "\n",
    "$$\n",
    "\\left[\\begin{array}{c} 1 \\\\ 1 \\\\ 1 \\\\ 1 \\end{array}\\right]\n",
    "$$\n",
    "\n",
    ".\n",
    "\n",
    "Find a matrix $\\mathbb{R}$ for which your function will not work, and explain what goes wrong.  Is there a choice of vector $\\vec{b}$ that will create problems?"
   ]
  },
  {
   "cell_type": "code",
   "execution_count": null,
   "metadata": {},
   "outputs": [],
   "source": [
    "code goes here"
   ]
  },
  {
   "cell_type": "markdown",
   "metadata": {},
   "source": [
    "discussion goes here"
   ]
  },
  {
   "cell_type": "markdown",
   "metadata": {},
   "source": [
    "### Matrix Inverter"
   ]
  },
  {
   "cell_type": "markdown",
   "metadata": {},
   "source": [
    "<font color = blue>\n",
    "Now use the pieces you have created to solve the general problem\n",
    "\n",
    "$$\n",
    "\\mathbb{M}\\vec{x} = \\vec{b}\n",
    "$$\n",
    "\n",
    "by first decomposing $\\mathbb{M} = \\mathbb{Q}\\mathbb{R}$, and then solving\n",
    "\n",
    "$$\n",
    "\\mathbb{R}\\vec{x} = \\mathbb{Q}^{T}\\vec{b}\n",
    "$$\n",
    "\n",
    "Your function should take as inputs an $N \\times N$ matrix $\\mathbb{M}$, and an $N$-component vector $\\vec{b}$.  Have your function print an error message and return a non-sensical result in the even that $\\mathbb{M}$ is not square, that $\\vec{b}$ does not have the correct number of components, or that $\\mathbb{M}$ is not invertible.\n",
    "\n",
    "Check your code using the matrices and vector we used earlier."
   ]
  },
  {
   "cell_type": "code",
   "execution_count": null,
   "metadata": {},
   "outputs": [],
   "source": [
    "code goes here"
   ]
  },
  {
   "cell_type": "markdown",
   "metadata": {},
   "source": [
    "discussion goes here"
   ]
  },
  {
   "cell_type": "markdown",
   "metadata": {},
   "source": [
    "## Circuit Analysis"
   ]
  },
  {
   "cell_type": "markdown",
   "metadata": {},
   "source": [
    "### * Circuit 1"
   ]
  },
  {
   "cell_type": "code",
   "execution_count": 1,
   "metadata": {},
   "outputs": [
    {
     "data": {
      "text/html": [
       "\n",
       "        <iframe\n",
       "            width=\"700\"\n",
       "            height=\"400\"\n",
       "            src=\"circuit.pdf\"\n",
       "            frameborder=\"0\"\n",
       "            allowfullscreen\n",
       "        ></iframe>\n",
       "        "
      ],
      "text/plain": [
       "<IPython.lib.display.IFrame at 0x7f80d818d580>"
      ]
     },
     "execution_count": 1,
     "metadata": {},
     "output_type": "execute_result"
    }
   ],
   "source": [
    "from IPython.display import IFrame, display\n",
    "#filepath = \"http://wikipedia.org\" # works with websites too!\n",
    "filepath = \"circuit.pdf\"\n",
    "IFrame(filepath, width=700, height=400)"
   ]
  },
  {
   "cell_type": "markdown",
   "metadata": {},
   "source": [
    "<font color = blue>\n",
    "Use your matrix inverter to find the currents in the circuit above, analyzed in class.  Choose at least four different sets of values for the resistors and the input voltage, and discuss whether or not the results make physical sense."
   ]
  },
  {
   "cell_type": "code",
   "execution_count": null,
   "metadata": {},
   "outputs": [],
   "source": [
    "code goes here"
   ]
  },
  {
   "cell_type": "markdown",
   "metadata": {},
   "source": [
    "discussion goes here"
   ]
  },
  {
   "cell_type": "markdown",
   "metadata": {},
   "source": [
    "### * Circuit 2"
   ]
  },
  {
   "cell_type": "markdown",
   "metadata": {},
   "source": [
    "<font color = blue>\n",
    "Now analyze the circuit below in a similar manner.  This time, you will have to convert the problem into matrix form yourself.  (Include your work on that in the notebook.)"
   ]
  },
  {
   "cell_type": "code",
   "execution_count": 2,
   "metadata": {},
   "outputs": [
    {
     "data": {
      "text/html": [
       "\n",
       "        <iframe\n",
       "            width=\"700\"\n",
       "            height=\"400\"\n",
       "            src=\"circuit2.pdf\"\n",
       "            frameborder=\"0\"\n",
       "            allowfullscreen\n",
       "        ></iframe>\n",
       "        "
      ],
      "text/plain": [
       "<IPython.lib.display.IFrame at 0x7f80d818d610>"
      ]
     },
     "execution_count": 2,
     "metadata": {},
     "output_type": "execute_result"
    }
   ],
   "source": [
    "from IPython.display import IFrame, display\n",
    "#filepath = \"http://wikipedia.org\" # works with websites too!\n",
    "filepath = \"circuit2.pdf\"\n",
    "IFrame(filepath, width=700, height=400)"
   ]
  },
  {
   "cell_type": "code",
   "execution_count": null,
   "metadata": {},
   "outputs": [],
   "source": [
    "code goes here"
   ]
  },
  {
   "cell_type": "markdown",
   "metadata": {},
   "source": [
    "discussion goes here"
   ]
  },
  {
   "cell_type": "markdown",
   "metadata": {},
   "source": [
    "## Final Project Work"
   ]
  },
  {
   "cell_type": "markdown",
   "metadata": {},
   "source": [
    "<font color = blue>\n",
    "Turn in your \"final project\" notebook as well, updated to include your work from this week.\n",
    "\n",
    "At the end, include a brief discussion of what you *intended* to accomplish as compared with what you *did* accomplish, as well as a plan for the rest of the project."
   ]
  },
  {
   "cell_type": "code",
   "execution_count": null,
   "metadata": {
    "collapsed": true
   },
   "outputs": [],
   "source": []
  }
 ],
 "metadata": {
  "kernelspec": {
   "display_name": "Python 3",
   "language": "python",
   "name": "python3"
  },
  "language_info": {
   "codemirror_mode": {
    "name": "ipython",
    "version": 3
   },
   "file_extension": ".py",
   "mimetype": "text/x-python",
   "name": "python",
   "nbconvert_exporter": "python",
   "pygments_lexer": "ipython3",
   "version": "3.8.3"
  }
 },
 "nbformat": 4,
 "nbformat_minor": 2
}
