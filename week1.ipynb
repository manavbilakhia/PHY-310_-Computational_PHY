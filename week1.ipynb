{
 "cells": [
  {
   "cell_type": "markdown",
   "metadata": {
    "pycharm": {
     "name": "#%% md\n"
    }
   },
   "source": [
    "# Week 1: Introduction to Computation in Python"
   ]
  },
  {
   "cell_type": "markdown",
   "metadata": {
    "pycharm": {
     "name": "#%% md\n"
    }
   },
   "source": [
    "name :Manav Bilakhia\n",
    "\n",
    "Date: 9th september 2022"
   ]
  },
  {
   "cell_type": "markdown",
   "metadata": {
    "pycharm": {
     "name": "#%% md\n"
    }
   },
   "source": [
    "# Place all Library imports in this section"
   ]
  },
  {
   "cell_type": "code",
   "execution_count": 121,
   "metadata": {
    "pycharm": {
     "name": "#%%\n"
    }
   },
   "outputs": [],
   "source": [
    "import math\n",
    "import numpy as np\n",
    "import matplotlib.pyplot as plt\n",
    "import time\n",
    "import statistics"
   ]
  },
  {
   "cell_type": "markdown",
   "metadata": {
    "pycharm": {
     "name": "#%% md\n"
    }
   },
   "source": [
    "# Functions, Command Structures, Arrays, and Plots"
   ]
  },
  {
   "cell_type": "markdown",
   "metadata": {
    "pycharm": {
     "name": "#%% md\n"
    }
   },
   "source": [
    "## Heaviside Function"
   ]
  },
  {
   "cell_type": "markdown",
   "metadata": {
    "pycharm": {
     "name": "#%% md\n"
    }
   },
   "source": [
    "<font color = blue>\n",
    "The heaviside function is usually defined as\n",
    "\n",
    "$$\n",
    "f(x) = \\left\\{\\begin{array}{rcl} 0 & \\mbox{for} & x < 0 \\\\ 1 & \\mbox{for} & x > 0 \\end{array}\\right.\n",
    "$$\n",
    "\n",
    "along with the special case $f(0) = \\frac{1}{2}$."
   ]
  },
  {
   "cell_type": "markdown",
   "metadata": {
    "pycharm": {
     "name": "#%% md\n"
    }
   },
   "source": [
    "### Simple Version"
   ]
  },
  {
   "cell_type": "markdown",
   "metadata": {
    "pycharm": {
     "name": "#%% md\n"
    }
   },
   "source": [
    "<font color = blue>\n",
    "Use the \"if\" control structure to define a function f(x) such that\n",
    "\n",
    "$$\n",
    "f(x) = \\left\\{\\begin{array}{rcl} 0 & \\mbox{for} & x \\le 0 \\\\ 1 & \\mbox{for} & x > 0 \\end{array}\\right.\n",
    "$$\n"
   ]
  },
  {
   "cell_type": "code",
   "execution_count": 122,
   "metadata": {
    "pycharm": {
     "name": "#%%\n"
    }
   },
   "outputs": [
    {
     "data": {
      "text/plain": [
       "0"
      ]
     },
     "execution_count": 122,
     "metadata": {},
     "output_type": "execute_result"
    }
   ],
   "source": [
    "def foo(x):\n",
    "    \"\"\"\n",
    "        if input is positive returns 1 else 0\n",
    "        :param x: (int)\n",
    "        :return: (int)  0 or 1\n",
    "        \"\"\"\n",
    "    if (x <=0):\n",
    "        return 0\n",
    "    else:\n",
    "        return 1\n",
    "foo(-5)"
   ]
  },
  {
   "cell_type": "markdown",
   "metadata": {
    "pycharm": {
     "name": "#%% md\n"
    }
   },
   "source": [
    "This is a simple if-else construct inside the function foo"
   ]
  },
  {
   "cell_type": "markdown",
   "metadata": {
    "pycharm": {
     "name": "#%% md\n"
    }
   },
   "source": [
    "### Full Version"
   ]
  },
  {
   "cell_type": "markdown",
   "metadata": {
    "pycharm": {
     "name": "#%% md\n"
    }
   },
   "source": [
    "<font color = blue>\n",
    "Now use an \"elif\" structure to incorporate the special case $f(0) = \\frac{1}{2}$."
   ]
  },
  {
   "cell_type": "code",
   "execution_count": 123,
   "metadata": {
    "pycharm": {
     "name": "#%%\n"
    }
   },
   "outputs": [
    {
     "data": {
      "text/plain": [
       "0.5"
      ]
     },
     "execution_count": 123,
     "metadata": {},
     "output_type": "execute_result"
    }
   ],
   "source": [
    "def foo(x):\n",
    "    \"\"\"\n",
    "        if input is positive, returns 1. For negative returns 0 and for 0 returns 0.5\n",
    "        :param x: (int)\n",
    "        :return: (int/float)  0 or 1 or 0.5\n",
    "        \"\"\"\n",
    "    if (x <0):\n",
    "        return 0\n",
    "    elif( x == 0):\n",
    "        return 0.5\n",
    "    else:\n",
    "        return 1\n",
    "foo(0)"
   ]
  },
  {
   "cell_type": "markdown",
   "metadata": {
    "pycharm": {
     "name": "#%% md\n"
    }
   },
   "source": [
    "The old foo function has now been redefined to accomodate the special input case of 0 where it returns a value of 0.5. "
   ]
  },
  {
   "cell_type": "markdown",
   "metadata": {
    "pycharm": {
     "name": "#%% md\n"
    }
   },
   "source": [
    "## Sine Function"
   ]
  },
  {
   "cell_type": "markdown",
   "metadata": {
    "pycharm": {
     "name": "#%% md\n"
    }
   },
   "source": [
    "<font color = blue>\n",
    "We know that we can approximate the sine function using the Taylor series\n",
    "\n",
    "$$\n",
    "\\sin(x) = x - \\frac{x^3}{3!} + \\frac{x^5}{5!} +\\cdots\n",
    "$$"
   ]
  },
  {
   "cell_type": "markdown",
   "metadata": {
    "pycharm": {
     "name": "#%% md\n"
    }
   },
   "source": [
    "### Truncated Taylor Series"
   ]
  },
  {
   "cell_type": "markdown",
   "metadata": {
    "pycharm": {
     "name": "#%% md\n"
    }
   },
   "source": [
    "<font color = blue>\n",
    "Create a function that takes two inputs: a variable \"x\" and an integer \"k\", and outputs the Taylor series approximation of sin(x), truncated after k terms.  To do this you can use the factorial function from the \"math\" library, and the \"sum\" function for adding up the elements of a list.  If necessary, look these functions up on the internet.  Make sure to test your function out thoroughly."
   ]
  },
  {
   "cell_type": "code",
   "execution_count": 124,
   "metadata": {
    "pycharm": {
     "name": "#%%\n"
    }
   },
   "outputs": [
    {
     "data": {
      "text/plain": [
       "3.328056696979873e-16"
      ]
     },
     "execution_count": 124,
     "metadata": {},
     "output_type": "execute_result"
    }
   ],
   "source": [
    "def taylor (x,k):\n",
    "    \"\"\"\n",
    "     Computes the sumation of the taylor series expansion for f(x) = sin x\n",
    "    :param x: (int) angle in radians\n",
    "    :param k: (int) number of terms in the Taylor Expansion\n",
    "    :return: (int/float) the sumation of the first k elements of the Taylor expansion\n",
    "     \"\"\"\n",
    "    sum = 0\n",
    "    for n in range (k):\n",
    "        sum = sum + ((math.pow(-1,n))* (math.pow(x,(2*n)+1))/math.factorial((2*n)+1)) \n",
    "    return sum\n",
    "taylor ((math.pi), 20) #taylor expansion of sin(pi) for 20 terms\n",
    "                     "
   ]
  },
  {
   "cell_type": "markdown",
   "metadata": {
    "pycharm": {
     "name": "#%% md\n"
    }
   },
   "source": []
  },
  {
   "cell_type": "markdown",
   "metadata": {
    "pycharm": {
     "name": "#%% md\n"
    }
   },
   "source": [
    "### Error Message"
   ]
  },
  {
   "cell_type": "markdown",
   "metadata": {
    "pycharm": {
     "name": "#%% md\n"
    }
   },
   "source": [
    "<font color = blue>\n",
    "Modify your function so that if the input value of \"k\" is not a positive integer, your function does two SEPARATE things: first, it **prints** an appropriate error message, and then it **returns** a value that cannot possibly be the output of sin(x) for any real value of x.  \n",
    "\n",
    "Note: to do this you need a way to determine whether a variable is or is not an integer.  There are many possible solutions, but one way is to try \"rounding\" the value of \"k\" to the nearest integer, and see if the result is still the same as \"k\"."
   ]
  },
  {
   "cell_type": "code",
   "execution_count": 125,
   "metadata": {
    "pycharm": {
     "name": "#%%\n"
    }
   },
   "outputs": [
    {
     "name": "stdout",
     "output_type": "stream",
     "text": [
      "value of k input is not positive. The answer below is not correct\n"
     ]
    },
    {
     "data": {
      "text/plain": [
       "3.328056696979873e-16"
      ]
     },
     "execution_count": 125,
     "metadata": {},
     "output_type": "execute_result"
    }
   ],
   "source": [
    "def taylor(x,k):\n",
    "    \"\"\"\n",
    "    Computes the sumation of the taylor series expansion for f(x) = sin x\n",
    "    :param x: (int) angle in radians\n",
    "    :param k: (int) number of terms in the Taylor Expansion\n",
    "    :return: (int/float) the sumation of the first k elements of the Taylor expansion\n",
    "    \"\"\"\n",
    "    sum = 0\n",
    "    for n in range (k):\n",
    "        sum = sum + ((math.pow(-1,n))* (math.pow(x,(2*n)+1))/math.factorial((2*n)+1)) # stores the total sum\n",
    "    return(sum)\n",
    "\n",
    "def improved_taylor(x,k):\n",
    "    \"\"\"\n",
    "    Takes care of special cases and error\n",
    "    :param x: (int) angle in radians\n",
    "    :param k: (int) number of terms in the Taylor Expansion\n",
    "    :return: (int/float) the return value for the taylor(x,k) function\n",
    "     \"\"\"\n",
    "    if (k<=0):\n",
    "        k = abs(k)\n",
    "        k=round(k)\n",
    "        print (\"value of k input is not positive. The answer below is not correct\")\n",
    "        return(taylor(x,k))\n",
    "    elif (type(k)!= int):\n",
    "        k=round(k)\n",
    "        print (\"value of k input is not a real integer. The answer below is not correct\")\n",
    "        return(taylor(x,k))\n",
    "    else:\n",
    "        return(taylor(x,k))\n",
    "improved_taylor((math.pi), -20.5)      \n",
    "        "
   ]
  },
  {
   "cell_type": "markdown",
   "metadata": {
    "pycharm": {
     "name": "#%% md\n"
    }
   },
   "source": [
    "The above block code combines the old Taylor Series function taylor(x,k) and adds on to it by displaying an error message if the input for the number of terms (k) in the Taylor series expansion is negative or not an integer. If the input is nergative, the code converts to its absolite value and calculates the sum for the absolute value. If the input (k) is not an integer, the code rounds it to the nearest integer and calculates the sum. If the input is a non-integer negative then it first calculates the absoliut value, rounds it to the nearest integer and then calculates the sum. In all the of the above mentioned cases, a corresponding error message is displayed with the incorrect sum of the taylor expansion. "
   ]
  },
  {
   "cell_type": "markdown",
   "metadata": {
    "pycharm": {
     "name": "#%% md\n"
    }
   },
   "source": [
    "### Accuracy"
   ]
  },
  {
   "cell_type": "markdown",
   "metadata": {
    "pycharm": {
     "name": "#%% md\n"
    }
   },
   "source": [
    "<font color = blue>\n",
    "Now use your function to determine how large \"k\" must be in order for sin(0.5) to be accurate to 10 decimal places.  You must do this WITHOUT using any built-in sin function, external calculator, or table of values for comparison.  "
   ]
  },
  {
   "cell_type": "code",
   "execution_count": 126,
   "metadata": {
    "pycharm": {
     "name": "#%%\n"
    }
   },
   "outputs": [
    {
     "data": {
      "text/plain": [
       "0.4794255386"
      ]
     },
     "execution_count": 126,
     "metadata": {},
     "output_type": "execute_result"
    }
   ],
   "source": [
    "round(improved_taylor(0.5,5),10) # estimates the value of sin(0.5) accurate to 10 decimal places. "
   ]
  },
  {
   "cell_type": "markdown",
   "metadata": {
    "pycharm": {
     "name": "#%% md\n"
    }
   },
   "source": []
  },
  {
   "cell_type": "markdown",
   "metadata": {
    "pycharm": {
     "name": "#%% md\n"
    }
   },
   "source": [
    "## Factorial Function"
   ]
  },
  {
   "cell_type": "markdown",
   "metadata": {
    "pycharm": {
     "name": "#%% md\n"
    }
   },
   "source": [
    "<font color = blue>\n",
    "The factorial is a function generally defined for positive integers, so that\n",
    "\n",
    "$$\n",
    "k! = k \\times (k-1) \\times (k-2) \\times \\cdots (2) \\times (1)\n",
    "$$\n",
    "\n",
    "Create your own function with a single input \"k\" which computes the factorial using a \"for\" loop.  Make sure your function will work for the special case $0! = 1$ as well."
   ]
  },
  {
   "cell_type": "code",
   "execution_count": 127,
   "metadata": {
    "pycharm": {
     "name": "#%%\n"
    }
   },
   "outputs": [
    {
     "data": {
      "text/plain": [
       "120"
      ]
     },
     "execution_count": 127,
     "metadata": {},
     "output_type": "execute_result"
    }
   ],
   "source": [
    "def factorial(k):\n",
    "    \"\"\"\n",
    "    Calculates the factorial of an input recurssively\n",
    "    :param k: (int) factorial to be counted\n",
    "    :return: (int) the factorial of input k\n",
    "    \"\"\"\n",
    "    if  k == 0: # base case 1\n",
    "        return 1\n",
    "    elif k == 1: # base case 2\n",
    "        return k\n",
    "    else:\n",
    "        return k*factorial(k-1) # recurssive call \n",
    "factorial(5)"
   ]
  },
  {
   "cell_type": "markdown",
   "metadata": {
    "pycharm": {
     "name": "#%% md\n"
    }
   },
   "source": []
  },
  {
   "cell_type": "markdown",
   "metadata": {
    "pycharm": {
     "name": "#%% md\n"
    }
   },
   "source": [
    "## Homework Grades"
   ]
  },
  {
   "cell_type": "markdown",
   "metadata": {
    "pycharm": {
     "name": "#%% md\n"
    }
   },
   "source": [
    "<font color = blue>\n",
    "A common grading policy is to drop the lowest homework grade from a student's final grade.  What we want to do is construct a module that implements this policy, accepting as an input a list of grades, and outputing the final grade as a percentage.  You can assume that every homework assignment is scored out of 20 poitns, but do not assume anything about the number of assignmnts that have been turned in.  You must do this without using any built-in \"sorting\" functions, though you can use a built-in function to determine the length of the input list of grades."
   ]
  },
  {
   "cell_type": "markdown",
   "metadata": {
    "pycharm": {
     "name": "#%% md\n"
    }
   },
   "source": [
    "### Minimum Value"
   ]
  },
  {
   "cell_type": "markdown",
   "metadata": {
    "pycharm": {
     "name": "#%% md\n"
    }
   },
   "source": [
    "<font color = blue>\n",
    "Begin by creating a function that inputs a list of numbers, and outputs the lowest number in that list."
   ]
  },
  {
   "cell_type": "code",
   "execution_count": 128,
   "metadata": {
    "pycharm": {
     "name": "#%%\n"
    }
   },
   "outputs": [
    {
     "name": "stdout",
     "output_type": "stream",
     "text": [
      "Lowest grade is:\n"
     ]
    },
    {
     "data": {
      "text/plain": [
       "0"
      ]
     },
     "execution_count": 128,
     "metadata": {},
     "output_type": "execute_result"
    }
   ],
   "source": [
    "def find_min(list):\n",
    "    \"\"\"\n",
    "    Finds the minimum value in a list\n",
    "        :param list: list of numbers whose minumum is to be found\n",
    "        :return: the minimum of a given list \n",
    "    \"\"\"\n",
    "    lowest = list[0]\n",
    "    for grade in list:\n",
    "        if grade < lowest: # selects the lowest possible grade\n",
    "            lowest = grade\n",
    "    print(\"Lowest grade is:\")\n",
    "    return lowest\n",
    "find_min([15,9,20,0])"
   ]
  },
  {
   "cell_type": "markdown",
   "metadata": {
    "pycharm": {
     "name": "#%% md\n"
    }
   },
   "source": []
  },
  {
   "cell_type": "markdown",
   "metadata": {
    "pycharm": {
     "name": "#%% md\n"
    }
   },
   "source": [
    "### Final Grade"
   ]
  },
  {
   "cell_type": "markdown",
   "metadata": {
    "pycharm": {
     "name": "#%% md\n"
    }
   },
   "source": [
    "<font color = blue>\n",
    "Now use the above function to create a function which generates the final homework percentage.  Check your function on the lists [15,9,20,0] and [15,20]"
   ]
  },
  {
   "cell_type": "code",
   "execution_count": 129,
   "metadata": {
    "pycharm": {
     "name": "#%%\n"
    }
   },
   "outputs": [
    {
     "name": "stdout",
     "output_type": "stream",
     "text": [
      "Lowest grade is:\n"
     ]
    },
    {
     "data": {
      "text/plain": [
       "73.33333333333333"
      ]
     },
     "execution_count": 129,
     "metadata": {},
     "output_type": "execute_result"
    }
   ],
   "source": [
    "def grading(list):\n",
    "    \"\"\" Removes the min from the list using find_min(list) and computes the final homework percentage \n",
    "        :param list: list of numbers \n",
    "        :return: the final homework percentage\n",
    "    \"\"\"\n",
    "    list.remove(find_min(list)) #  removes the lowest grade\n",
    "    final_sum = sum(list) #calculates the sum \n",
    "    return (final_sum)/(len(list)*20)*100 # calculates the percetage and returns it\n",
    "grading([15,9,20,0])"
   ]
  },
  {
   "cell_type": "markdown",
   "metadata": {
    "pycharm": {
     "name": "#%% md\n"
    }
   },
   "source": []
  },
  {
   "cell_type": "markdown",
   "metadata": {
    "pycharm": {
     "name": "#%% md\n"
    }
   },
   "source": [
    "## Numpy Arrays"
   ]
  },
  {
   "cell_type": "markdown",
   "metadata": {
    "pycharm": {
     "name": "#%% md\n"
    }
   },
   "source": [
    "<font color = blue>\n",
    "If you want to mathematically manipulate large data sets, using the basic python \"list\" structure isn't ideal.  Instead, we will be using the numerical python library \"numpy\" and the \"array\" structure it uses.  Rules for manipulating numpy arrays are somewhat different than those for lists, so this section is designed to start getting you familiar with these rules.\n",
    "\n",
    "You will want to begin by importing the numpy library into your notebook."
   ]
  },
  {
   "cell_type": "markdown",
   "metadata": {
    "pycharm": {
     "name": "#%% md\n"
    }
   },
   "source": [
    "### Creating Numpy Arrays"
   ]
  },
  {
   "cell_type": "markdown",
   "metadata": {
    "pycharm": {
     "name": "#%% md\n"
    }
   },
   "source": [
    "<font color = blue>\n",
    "Look up the basic numpy.array command, and use it to convert the two basic lists [1,2,3] and [[1,2], [3,4]] into numpy arrays.  \n",
    "\n",
    "\n",
    "Next, try to convert the list [[1,2], [3,4,5]] into a numpy array.  What happens?\n",
    "\n",
    "\n",
    "Finally, create a numpy array of the first 100 positive integers (without typing them in one by one.)"
   ]
  },
  {
   "cell_type": "code",
   "execution_count": 130,
   "metadata": {
    "pycharm": {
     "name": "#%%\n"
    }
   },
   "outputs": [
    {
     "name": "stdout",
     "output_type": "stream",
     "text": [
      "[1 2 3]\n",
      "[[1 2]\n",
      " [3 4]]\n",
      "[list([1, 2]) list([3, 4, 5])]\n"
     ]
    },
    {
     "name": "stderr",
     "output_type": "stream",
     "text": [
      "C:\\Users\\manav\\AppData\\Local\\Temp\\ipykernel_26164\\2926792958.py:10: VisibleDeprecationWarning: Creating an ndarray from ragged nested sequences (which is a list-or-tuple of lists-or-tuples-or ndarrays with different lengths or shapes) is deprecated. If you meant to do this, you must specify 'dtype=object' when creating the ndarray.\n",
      "  arr3 = np.array(lst3)\n"
     ]
    }
   ],
   "source": [
    "lst1 = [1,2,3] #works\n",
    "arr1 = np.array(lst1)\n",
    "print(arr1)\n",
    "\n",
    "lst2 = [[1,2], [3,4]] #works\n",
    "arr2 = np.array(lst2)\n",
    "print(arr2)\n",
    "\n",
    "lst3 = [[1,2], [3,4,5]] # will not work\n",
    "arr3 = np.array(lst3)\n",
    "print(arr3)"
   ]
  },
  {
   "cell_type": "markdown",
   "metadata": {
    "pycharm": {
     "name": "#%% md\n"
    }
   },
   "source": [
    "In the first two cases, we see that the list is converted to a numpy array. Case 1 is a single dmensional list. Case 2 also gets conveted as it a uniformly sized 2 dimensional list where as we see in case 3 that it cannot be converted to a numpy array as the size of the sub arrays is not uniform. This can be solved by either adding an extra dummy element to all the other sublist or by specifying the object type as a  parameter to the .array() function. "
   ]
  },
  {
   "cell_type": "markdown",
   "metadata": {
    "pycharm": {
     "name": "#%% md\n"
    }
   },
   "source": [
    "### Basic Mathematical Operations on Arrays"
   ]
  },
  {
   "cell_type": "markdown",
   "metadata": {
    "pycharm": {
     "name": "#%% md\n"
    }
   },
   "source": [
    "<font color = blue>\n",
    "Create two numpy arrays to experiment with: \"list1\" and \"list2\".  Make sure each has four members.\n",
    "\n",
    "Then, compute the following:\n",
    "\n",
    "list1 * list2\n",
    "\n",
    "list1 + list2\n",
    "\n",
    "list1 * 3\n",
    "\n",
    "list2 - 4\n",
    "\n",
    "Explain briefly how basic mathematical operations work on numpy arrays."
   ]
  },
  {
   "cell_type": "code",
   "execution_count": 131,
   "metadata": {
    "pycharm": {
     "name": "#%%\n"
    }
   },
   "outputs": [
    {
     "name": "stdout",
     "output_type": "stream",
     "text": [
      "arr1 [1 2 3 4]\n",
      "arr2 [5 6 7 8]\n",
      "arr1 * arr2 [ 5 12 21 32]\n",
      "list1 + list2 [1, 2, 3, 4, 5, 6, 7, 8]\n",
      "arr1 + arr2 [ 6  8 10 12]\n",
      "list1 * 3 [1, 2, 3, 4, 1, 2, 3, 4, 1, 2, 3, 4]\n",
      "arr1 * 3 [ 3  6  9 12]\n",
      "arr2 - 4 [1 2 3 4]\n"
     ]
    }
   ],
   "source": [
    "list1 = [1,2,3,4]\n",
    "arr1 = np.array(list1)\n",
    "print(\"arr1 \"+ str(arr1))\n",
    "\n",
    "list2 = [5,6,7,8]\n",
    "arr2 = np.array(list2)\n",
    "print(\"arr2 \"+ str(arr2))\n",
    "\n",
    "#print(\"list1 * list2\"+ str(list1 * list2))\n",
    "print(\"arr1 * arr2 \"+ str(arr1 * arr2))\n",
    "\n",
    "print(\"list1 + list2 \"+ str(list1 + list2))\n",
    "print(\"arr1 + arr2 \"+ str(arr1 + arr2))\n",
    "\n",
    "print(\"list1 * 3 \"+ str(list1 * 3))\n",
    "print(\"arr1 * 3 \"+ str(arr1 * 3))\n",
    "\n",
    "#print(\"list2 - 4 \"+ str(list2 - 4))\n",
    "print(\"arr2 - 4 \"+ str(arr2 - 4))\n"
   ]
  },
  {
   "cell_type": "markdown",
   "metadata": {
    "pycharm": {
     "name": "#%% md\n"
    }
   },
   "source": [
    "List * list     :does not work\n",
    "np_arr * np_arr :multiplies its individual elements \n",
    "list + list     :concatinates them\n",
    "np_arr + np_arr :adds its individual elements\n",
    "int * list      :copies the list int times and concatinates them\n",
    "int * np_arr    :multiplies the each element of the list with int\n",
    "list - int      :does not work\n",
    "np_arr - int    :subtracts int from each element of the array "
   ]
  },
  {
   "cell_type": "markdown",
   "metadata": {
    "pycharm": {
     "name": "#%% md\n"
    }
   },
   "source": [
    "### Accessing Elements and Determining Length"
   ]
  },
  {
   "cell_type": "markdown",
   "metadata": {
    "pycharm": {
     "name": "#%% md\n"
    }
   },
   "source": [
    "<font color = blue>\n",
    "Confirm that you can access the elements in a numpy array, and determine its length, the same way you would for a normal list.\n",
    "\n",
    "Also test this on a third list: list3 = np.array([[1,5], [2,4]])"
   ]
  },
  {
   "cell_type": "code",
   "execution_count": 132,
   "metadata": {
    "pycharm": {
     "name": "#%%\n"
    }
   },
   "outputs": [
    {
     "name": "stdout",
     "output_type": "stream",
     "text": [
      "size =  4\n",
      "1\n",
      "5\n",
      "2\n",
      "4\n",
      "size =  4\n",
      "shape =  (2, 2)\n",
      "[[1 5]\n",
      " [2 4]]\n"
     ]
    }
   ],
   "source": [
    "List2 = np.array([1,5,2,4])\n",
    "print (\"size = \",List2.size)\n",
    "for i in range (List2.size): # accessing each elemt of the np array by looping just like lists \n",
    "    print(List2[i])\n",
    "list3 = np.array([[1,5], [2,4]])\n",
    "print (\"size = \",list3.size) # length of the array\n",
    "print (\"shape = \",list3.shape) # dimensions of a multi dimention array`\n",
    "print(np.matrix(list3))"
   ]
  },
  {
   "cell_type": "markdown",
   "metadata": {
    "pycharm": {
     "name": "#%% md\n"
    }
   },
   "source": []
  },
  {
   "cell_type": "markdown",
   "metadata": {
    "pycharm": {
     "name": "#%% md\n"
    }
   },
   "source": [
    "### Numpy Functions vs. Math Functions"
   ]
  },
  {
   "cell_type": "markdown",
   "metadata": {
    "pycharm": {
     "name": "#%% md\n"
    }
   },
   "source": [
    "<font color = blue>\n",
    "The numpy library has many of the same functions as the math library, but they work somewhat differently, especially in terms of arrays.  Compute first numpy.sin(list1) and then math.sin(list1), and compare the results. Also try using a standard python list as the input, instead of a numpy array. What does each do?"
   ]
  },
  {
   "cell_type": "code",
   "execution_count": 133,
   "metadata": {
    "pycharm": {
     "name": "#%%\n"
    }
   },
   "outputs": [
    {
     "name": "stdout",
     "output_type": "stream",
     "text": [
      "[ 0.84147098 -0.95892427  0.90929743 -0.7568025 ]\n",
      "[ 0.84147098 -0.95892427  0.90929743 -0.7568025 ]\n"
     ]
    }
   ],
   "source": [
    "list1 = np.array([1,5,2,4])\n",
    "print(np.sin(list1))\n",
    "#print(math.sin(list1)) \n",
    "list2 = [1,5,2,4]\n",
    "print(np.sin(list2))\n",
    "#print(math.sin(list2))"
   ]
  },
  {
   "cell_type": "markdown",
   "metadata": {
    "pycharm": {
     "name": "#%% md\n"
    }
   },
   "source": [
    "This is interesting as np.sin works on both numpy arrays and lists but math.sin works on neither. np.sin calculates the sin value of each element in the array and returns that as an array."
   ]
  },
  {
   "cell_type": "markdown",
   "metadata": {
    "pycharm": {
     "name": "#%% md\n"
    }
   },
   "source": [
    "### Appending Elements"
   ]
  },
  {
   "cell_type": "markdown",
   "metadata": {
    "pycharm": {
     "name": "#%% md\n"
    }
   },
   "source": [
    "<font color = blue>\n",
    "Look up how to append elements to the end of a numpy array, and demonstrate this by appending the element \"5\" to your previously created \"list1\".  Also determine and demonstrate how to append an \"ordered pair\" to a numpy array of ordered pairs."
   ]
  },
  {
   "cell_type": "code",
   "execution_count": 134,
   "metadata": {
    "pycharm": {
     "name": "#%%\n"
    }
   },
   "outputs": [
    {
     "name": "stdout",
     "output_type": "stream",
     "text": [
      "[1 5 2 4 5]\n"
     ]
    }
   ],
   "source": [
    "list1 = np.append(list1,5)\n",
    "print(list1)"
   ]
  },
  {
   "cell_type": "markdown",
   "metadata": {
    "pycharm": {
     "name": "#%% md\n"
    }
   },
   "source": [
    "Append creates a copy of the already existing list which then needs to be assigned to the same list so that the copy is saved. append takes two paramenters, the list that is being appended and the value that is going to be appended to the list. "
   ]
  },
  {
   "cell_type": "markdown",
   "metadata": {
    "pycharm": {
     "name": "#%% md\n"
    }
   },
   "source": [
    "### An Array of Particle Locations"
   ]
  },
  {
   "cell_type": "markdown",
   "metadata": {
    "pycharm": {
     "name": "#%% md\n"
    }
   },
   "source": [
    "<font color = blue>\n",
    "Suppose we have one hundred particles to keep track of, and each has three spatial coordinates (so we want to create an array that is a list of 100 ordered triples.)  \n",
    "\n",
    "Do this, assuming the particles are spaced evenly along the line from the origin to the location (1,1,1), so that the first particle is at the origin, and the last particle is at (1,1,1).  Give your array the name \"Xlist\".\n",
    "\n",
    "Be careful to double check that your list has exactly the right number of entries, and exactly the correct first and last entry.  It's easy to be off by a small amount here!\n",
    "\n",
    "Then, evaluate \"Xlist[71,2]\", and describe in words what this number represents.\n",
    "\n"
   ]
  },
  {
   "cell_type": "code",
   "execution_count": 135,
   "metadata": {
    "pycharm": {
     "name": "#%%\n"
    }
   },
   "outputs": [
    {
     "name": "stdout",
     "output_type": "stream",
     "text": [
      "[[0.         0.         0.        ]\n",
      " [0.01010101 0.01010101 0.01010101]\n",
      " [0.02020202 0.02020202 0.02020202]\n",
      " [0.03030303 0.03030303 0.03030303]\n",
      " [0.04040404 0.04040404 0.04040404]\n",
      " [0.05050505 0.05050505 0.05050505]\n",
      " [0.06060606 0.06060606 0.06060606]\n",
      " [0.07070707 0.07070707 0.07070707]\n",
      " [0.08080808 0.08080808 0.08080808]\n",
      " [0.09090909 0.09090909 0.09090909]\n",
      " [0.1010101  0.1010101  0.1010101 ]\n",
      " [0.11111111 0.11111111 0.11111111]\n",
      " [0.12121212 0.12121212 0.12121212]\n",
      " [0.13131313 0.13131313 0.13131313]\n",
      " [0.14141414 0.14141414 0.14141414]\n",
      " [0.15151515 0.15151515 0.15151515]\n",
      " [0.16161616 0.16161616 0.16161616]\n",
      " [0.17171717 0.17171717 0.17171717]\n",
      " [0.18181818 0.18181818 0.18181818]\n",
      " [0.19191919 0.19191919 0.19191919]\n",
      " [0.2020202  0.2020202  0.2020202 ]\n",
      " [0.21212121 0.21212121 0.21212121]\n",
      " [0.22222222 0.22222222 0.22222222]\n",
      " [0.23232323 0.23232323 0.23232323]\n",
      " [0.24242424 0.24242424 0.24242424]\n",
      " [0.25252525 0.25252525 0.25252525]\n",
      " [0.26262626 0.26262626 0.26262626]\n",
      " [0.27272727 0.27272727 0.27272727]\n",
      " [0.28282828 0.28282828 0.28282828]\n",
      " [0.29292929 0.29292929 0.29292929]\n",
      " [0.3030303  0.3030303  0.3030303 ]\n",
      " [0.31313131 0.31313131 0.31313131]\n",
      " [0.32323232 0.32323232 0.32323232]\n",
      " [0.33333333 0.33333333 0.33333333]\n",
      " [0.34343434 0.34343434 0.34343434]\n",
      " [0.35353535 0.35353535 0.35353535]\n",
      " [0.36363636 0.36363636 0.36363636]\n",
      " [0.37373737 0.37373737 0.37373737]\n",
      " [0.38383838 0.38383838 0.38383838]\n",
      " [0.39393939 0.39393939 0.39393939]\n",
      " [0.4040404  0.4040404  0.4040404 ]\n",
      " [0.41414141 0.41414141 0.41414141]\n",
      " [0.42424242 0.42424242 0.42424242]\n",
      " [0.43434343 0.43434343 0.43434343]\n",
      " [0.44444444 0.44444444 0.44444444]\n",
      " [0.45454545 0.45454545 0.45454545]\n",
      " [0.46464646 0.46464646 0.46464646]\n",
      " [0.47474747 0.47474747 0.47474747]\n",
      " [0.48484848 0.48484848 0.48484848]\n",
      " [0.49494949 0.49494949 0.49494949]\n",
      " [0.50505051 0.50505051 0.50505051]\n",
      " [0.51515152 0.51515152 0.51515152]\n",
      " [0.52525253 0.52525253 0.52525253]\n",
      " [0.53535354 0.53535354 0.53535354]\n",
      " [0.54545455 0.54545455 0.54545455]\n",
      " [0.55555556 0.55555556 0.55555556]\n",
      " [0.56565657 0.56565657 0.56565657]\n",
      " [0.57575758 0.57575758 0.57575758]\n",
      " [0.58585859 0.58585859 0.58585859]\n",
      " [0.5959596  0.5959596  0.5959596 ]\n",
      " [0.60606061 0.60606061 0.60606061]\n",
      " [0.61616162 0.61616162 0.61616162]\n",
      " [0.62626263 0.62626263 0.62626263]\n",
      " [0.63636364 0.63636364 0.63636364]\n",
      " [0.64646465 0.64646465 0.64646465]\n",
      " [0.65656566 0.65656566 0.65656566]\n",
      " [0.66666667 0.66666667 0.66666667]\n",
      " [0.67676768 0.67676768 0.67676768]\n",
      " [0.68686869 0.68686869 0.68686869]\n",
      " [0.6969697  0.6969697  0.6969697 ]\n",
      " [0.70707071 0.70707071 0.70707071]\n",
      " [0.71717172 0.71717172 0.71717172]\n",
      " [0.72727273 0.72727273 0.72727273]\n",
      " [0.73737374 0.73737374 0.73737374]\n",
      " [0.74747475 0.74747475 0.74747475]\n",
      " [0.75757576 0.75757576 0.75757576]\n",
      " [0.76767677 0.76767677 0.76767677]\n",
      " [0.77777778 0.77777778 0.77777778]\n",
      " [0.78787879 0.78787879 0.78787879]\n",
      " [0.7979798  0.7979798  0.7979798 ]\n",
      " [0.80808081 0.80808081 0.80808081]\n",
      " [0.81818182 0.81818182 0.81818182]\n",
      " [0.82828283 0.82828283 0.82828283]\n",
      " [0.83838384 0.83838384 0.83838384]\n",
      " [0.84848485 0.84848485 0.84848485]\n",
      " [0.85858586 0.85858586 0.85858586]\n",
      " [0.86868687 0.86868687 0.86868687]\n",
      " [0.87878788 0.87878788 0.87878788]\n",
      " [0.88888889 0.88888889 0.88888889]\n",
      " [0.8989899  0.8989899  0.8989899 ]\n",
      " [0.90909091 0.90909091 0.90909091]\n",
      " [0.91919192 0.91919192 0.91919192]\n",
      " [0.92929293 0.92929293 0.92929293]\n",
      " [0.93939394 0.93939394 0.93939394]\n",
      " [0.94949495 0.94949495 0.94949495]\n",
      " [0.95959596 0.95959596 0.95959596]\n",
      " [0.96969697 0.96969697 0.96969697]\n",
      " [0.97979798 0.97979798 0.97979798]\n",
      " [0.98989899 0.98989899 0.98989899]\n",
      " [1.         1.         1.        ]]\n",
      "0.7171717171717171\n"
     ]
    }
   ],
   "source": [
    "numparticles = 100\n",
    "# create a list of 100 particles\n",
    "Xlist = np.zeros((numparticles,3))\n",
    "for i in range (numparticles):\n",
    "    for j in range (numparticles):\n",
    "        for k in range (numparticles):\n",
    "            Xlist[k,2] = k/99 #fills the z coordinate\n",
    "        Xlist[j,1] = j/99 #fills the y coordinate\n",
    "    Xlist[i,0] = i/99 #fills the x coordinate\n",
    "print(Xlist)\n",
    "print(Xlist[71,2])\n",
    "\n",
    "        "
   ]
  },
  {
   "cell_type": "markdown",
   "metadata": {
    "pycharm": {
     "name": "#%% md\n"
    }
   },
   "source": [
    "Xlist[71,2]: this corresponds to the z coordinate of the 72nd particle. "
   ]
  },
  {
   "cell_type": "markdown",
   "metadata": {
    "pycharm": {
     "name": "#%% md\n"
    }
   },
   "source": [
    "## Dot Products and Timing"
   ]
  },
  {
   "cell_type": "markdown",
   "metadata": {
    "pycharm": {
     "name": "#%% md\n"
    }
   },
   "source": [
    "### The Dot Product"
   ]
  },
  {
   "cell_type": "markdown",
   "metadata": {
    "pycharm": {
     "name": "#%% md\n"
    }
   },
   "source": [
    "<font color = blue>\n",
    "Write a function that takes two arrays of equal length (think of them as vectors living in some high-dimensional space), and outputs the dot product of these vectors.  To do this, use the \"sum\" command\"."
   ]
  },
  {
   "cell_type": "code",
   "execution_count": 136,
   "metadata": {},
   "outputs": [],
   "source": [
    "def dot_product1(a,b):\n",
    "    \"\"\" Calculates the dot product of two vectors\n",
    "        :param a: the first vector \n",
    "        :param b: the second vector\n",
    "        :return: the dot product of two vectors\n",
    "    \"\"\"\n",
    "    return sum(a*b)"
   ]
  },
  {
   "cell_type": "markdown",
   "metadata": {
    "pycharm": {
     "name": "#%% md\n"
    }
   },
   "source": []
  },
  {
   "cell_type": "markdown",
   "metadata": {
    "pycharm": {
     "name": "#%% md\n"
    }
   },
   "source": [
    "### Time Required for a Single Arithmetic Operation"
   ]
  },
  {
   "cell_type": "markdown",
   "metadata": {
    "pycharm": {
     "name": "#%% md\n"
    }
   },
   "source": [
    "<font color = blue>\n",
    "The library \"time\" has a command \"time.time\" which outputs the current time.  This can be used to determine the time required to perform some calculation.  \n",
    "\n",
    "Using this command (don't forget to import the library!), write a function that takes, as its argument an integer \"nsize\", and returns the amount of time it took to compute the dot product of two vectors, each of length nsize.  (It doesn't really matty what specifically these vectors are, so you could use vectors where every component is equal to one, for example.)\n",
    "\n",
    "With this function, create a list of the amount of time it takes to compute the dot product for vectors of lengths 10000, 20000, ..., 100000 (in steps of 10000.)  From this list, estimate the amount of time it takes your computer to perform a single arithmetic operation, and describe your procedure for determining this value."
   ]
  },
  {
   "cell_type": "code",
   "execution_count": 137,
   "metadata": {
    "pycharm": {
     "name": "#%%\n"
    }
   },
   "outputs": [
    {
     "name": "stdout",
     "output_type": "stream",
     "text": [
      "size of vector =  1000000\n",
      "[1. 1. 1. ... 1. 1. 1.]\n",
      "size of vector =  2000000\n",
      "[1. 1. 1. ... 1. 1. 1.]\n",
      "size of vector =  3000000\n",
      "[1. 1. 1. ... 1. 1. 1.]\n",
      "size of vector =  4000000\n",
      "[1. 1. 1. ... 1. 1. 1.]\n",
      "size of vector =  5000000\n",
      "[1. 1. 1. ... 1. 1. 1.]\n",
      "size of vector =  6000000\n",
      "[1. 1. 1. ... 1. 1. 1.]\n",
      "size of vector =  7000000\n",
      "[1. 1. 1. ... 1. 1. 1.]\n",
      "size of vector =  8000000\n",
      "[1. 1. 1. ... 1. 1. 1.]\n",
      "size of vector =  9000000\n",
      "[1. 1. 1. ... 1. 1. 1.]\n",
      "size of vector =  10000000\n",
      "[1. 1. 1. ... 1. 1. 1.]\n",
      "[0.05683088 0.1010232  0.16248512 0.25781107 0.28281617 0.31621957\n",
      " 0.39835215 0.47762132 0.48293519 0.52102518]\n",
      "average time taken per process 2.7879781576542202e-08\n"
     ]
    },
    {
     "data": {
      "image/png": "[encoded data removed]",
      "text/plain": [
       "<Figure size 640x480 with 1 Axes>"
      ]
     },
     "metadata": {},
     "output_type": "display_data"
    }
   ],
   "source": [
    "def fill_array(n):\n",
    "    \"\"\"Fills up the array with n 1s\n",
    "    :parameter: (int) number of 1 in an array\n",
    "    :retun: array with  n 1s\"\"\"\n",
    "    a = np.zeros(n)\n",
    "    for i in range (n):\n",
    "        a[i] = 1\n",
    "    return a\n",
    "\n",
    "def dot_product():\n",
    "    \"\"\"Computes the dot protuct and computes the time to calculate 1 dot product. Stores the time taken for each dot product calculation\n",
    "        in an array\n",
    "        :return: (array) an array which stores all the time\n",
    "        \"\"\"\n",
    "    time_array = np.zeros(10, dtype=float) # array to store time taken to calculate a dot product\n",
    "    time_taken = np.zeros(10, dtype=float) # array to store time taken for 1 process\n",
    "    pos = 0 # pos at which time value is stored\n",
    "    for i in range(1000000,11000000,1000000):\n",
    "        a = fill_array(i) # generating a vector \n",
    "        start = time.time() # start timer\n",
    "        dot_product1(a,a) # calculate dot product\n",
    "        end = time.time()  # stop timer\n",
    "        print(\"size of vector = \" ,str(a.size))\n",
    "        time_array[pos] = end -start # calculate time difference\n",
    "\n",
    "        plt.scatter(end -start, i) \n",
    "        time_taken[pos] = time_array[pos]/((2*i) -1)\n",
    "        pos+=1\n",
    "        print (a)\n",
    "    mean =  statistics.mean(time_taken)\n",
    "    print(time_array)\n",
    "    print (\"average time taken per process \" + str(mean))\n",
    "    plt.xlabel(\"size of the vector\")\n",
    "    plt.ylabel(\"time taken to calculate the dot product\")\n",
    "    plt.title(\"time vs size\")\n",
    "    plt.show()\n",
    "dot_product()\n"
   ]
  },
  {
   "cell_type": "markdown",
   "metadata": {
    "pycharm": {
     "name": "#%% md\n"
    }
   },
   "source": [
    "We know that there are 2n-1 processes required to calculate the dot product of of 2 vectors oif size n. As n gets bigger, the -1 becomes more irrelevent. the code above calculates this be $$ \n",
    "\\frac {\\textrm{time taken for computing a dot product between two vectors of size n}}{2n-1}\n",
    "$$"
   ]
  },
  {
   "cell_type": "markdown",
   "metadata": {
    "pycharm": {
     "name": "#%% md\n"
    }
   },
   "source": [
    "## Making Graphs"
   ]
  },
  {
   "cell_type": "markdown",
   "metadata": {
    "pycharm": {
     "name": "#%% md\n"
    }
   },
   "source": [
    "<font color = blue>"
   ]
  },
  {
   "cell_type": "markdown",
   "metadata": {
    "pycharm": {
     "name": "#%% md\n"
    }
   },
   "source": [
    "<font color = blue>\n",
    "Computational Methods generally produce results in the form of long lists of data; this is not terribly convenient for actually understanding anything, without the use of graphics.  The most common, basic tool for graphing in Python is the library matplotlib.  After importing this library, use the internet to look up how a basic plot works, given two sets of data (x-coordinates and y-coordinates).  Then, create an example of how to use this method below.  (You will of course first have to generate the data itself.)  Make sure your example incorporates the following elements, which will be very useful for you to be able to control in the future.\n",
    "\n",
    "1) Your graph should display two sets of data on the same plot\n",
    "\n",
    "2) It should include labels for the x- and y-axes\n",
    "\n",
    "3) It should include a title\n",
    "\n",
    "4) It should use a plot legend to distinguish between the two data sets\n",
    "\n",
    "5) You should directly control the size of the plot.\n",
    "\n",
    "6) One set of data should be displayed as a connected line, while the other as a set of points\n",
    "\n",
    "7) You should directly control the colors of the two data sets.\n",
    "\n",
    "8) You should also directly control the ranges of the x-axis and y-axis"
   ]
  },
  {
   "cell_type": "code",
   "execution_count": 138,
   "metadata": {
    "pycharm": {
     "name": "#%%\n"
    }
   },
   "outputs": [
    {
     "data": {
      "image/png": "[encoded data removed]",
      "text/plain": [
       "<Figure size 1000x1000 with 1 Axes>"
      ]
     },
     "metadata": {},
     "output_type": "display_data"
    }
   ],
   "source": [
    "    a = np.zeros(1000)\n",
    "    b = np.zeros(10)\n",
    "    plt.figure(figsize=(10, 10))\n",
    "    for i in range(1000):\n",
    "        a[i] = i+300\n",
    "    plt.plot(a, label = \"a\",color = \"blue\")\n",
    "    for j in range (10):\n",
    "        b[j] = j*100 \n",
    "    plt.scatter(b,b, label = \"(b,b)\", color = \"red\")\n",
    "\n",
    "    plt.xlim(0,1250) #x axis range\n",
    "    plt.ylim(-100,5000) #y axis range\n",
    "    plt.xlabel(\"x-axis\") #x axis label\n",
    "    plt.ylabel(\"y-axis\") #y axis label\n",
    "    plt.title(\"Plotting a and b\") #title\n",
    "    plt.legend()\n",
    "    plt.show()"
   ]
  },
  {
   "cell_type": "markdown",
   "metadata": {
    "pycharm": {
     "name": "#%% md\n"
    }
   },
   "source": [
    "Making plots in python tends to be a multi function process. You can only plots datasets and not functions. Each customization such as plot labels and type of line is either a new function or a parameter to the the type of plot being plotted."
   ]
  }
 ],
 "metadata": {
  "kernelspec": {
   "display_name": "Python 3 (ipykernel)",
   "language": "python",
   "name": "python3"
  },
  "language_info": {
   "codemirror_mode": {
    "name": "ipython",
    "version": 3
   },
   "file_extension": ".py",
   "mimetype": "text/x-python",
   "name": "python",
   "nbconvert_exporter": "python",
   "pygments_lexer": "ipython3",
   "version": "3.10.7"
  }
 },
 "nbformat": 4,
 "nbformat_minor": 4
}
